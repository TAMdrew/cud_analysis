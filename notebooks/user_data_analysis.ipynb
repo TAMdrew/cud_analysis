{
 "cells": [
  {
   "cell_type": "markdown",
   "metadata": {},
   "source": [
    "# 🔬 Analysis of Your Cloud Data\n",
    "\n",
    "This notebook contains a detailed analysis of your cloud data, including CUD optimization opportunities and cost-saving recommendations."
   ]
  },
  {
   "cell_type": "markdown",
   "metadata": {},
   "source": [
    "## 📚 Step 1: Setup and Imports\n",
    "\n",
    "First, we'll import the necessary modules from the `finops-analysis-platform` library."
   ]
  },
  {
   "cell_type": "code",
   "execution_count": null,
   "metadata": {},
   "outputs": [],
   "source": [
    "import logging\n",
    "import pandas as pd\n",
    "from finops_analysis_platform.config_manager import ConfigManager\n",
    "from finops_analysis_platform.data_loader import GCSDataLoader\n",
    "from finops_analysis_platform.core import CUDAnalyzer\n",
    "from finops_analysis_platform.reporting import create_dashboard, PDFReportGenerator\n",
    "\n",
    "# Set up basic logging\n",
    "logging.basicConfig(level=logging.INFO, format='%(asctime)s - %(levelname)s - %(message)s')"
   ]
  },
  {
   "cell_type": "markdown",
   "metadata": {},
   "source": [
    "## 📂 Step 2: Load Your Data\n",
    "\n",
    "We'll now load your data from the `cud_analysis` GCS bucket."
   ]
  },
  {
   "cell_type": "code",
   "execution_count": null,
   "metadata": {},
   "outputs": [],
   "source": [
    "config_manager = ConfigManager(config_path='config.yaml')\n",
    "gcs_config = config_manager.get('gcs', {})\n",
    "loader = GCSDataLoader(bucket_name=gcs_config.get('bucket_name'))\n",
    "data = loader.load_all_data()\n",
    "billing_data = data.get('billing')\n",
    "recommendations_data = data.get('recommendations')\n",
    "\n",
    "print(\"✅ Data loaded successfully.\")"
   ]
  },
  {
   "cell_type": "markdown",
   "metadata": {},
   "source": [
    "## 💰 Step 3: CUD Analysis\n",
    "\n",
    "Here we run the CUD analysis on your billing data and generate a PDF report and an interactive dashboard."
   ]
  },
  {
   "cell_type": "code",
   "execution_count": null,
   "metadata": {},
   "outputs": [],
   "source": [
    "analyzer = CUDAnalyzer(config_manager=config_manager, billing_data=billing_data)\n",
    "analysis = analyzer.generate_comprehensive_analysis()\n",
    "print(\"✅ CUD Analysis complete!\")\n",
    "\n",
    "# Generate PDF Report\n",
    "pdf_generator = PDFReportGenerator(config_manager=config_manager)\n",
    "report_filename = pdf_generator.generate_report(analysis)\n",
    "print(f\"📄 PDF report generated: {report_filename}\")\n",
    "\n",
    "# Create Interactive Dashboard\n",
    "dashboard = create_dashboard(analysis)\n",
    "# In a real notebook environment, this would display the Plotly chart.\n",
    "print(\"📊 Interactive dashboard created.\")"
   ]
  },
  {
   "cell_type": "markdown",
   "metadata": {},
   "source": [
    "## 🔧 Step 4: Cost-Saving Recommendations Analysis\n",
    "\n",
    "Next, we analyze the data from the cost recommender to identify immediate savings opportunities."
   ]
  },
  {
   "cell_type": "code",
   "execution_count": null,
   "metadata": {},
   "outputs": [],
   "source": [
    "if recommendations_data is not None:\n",
    "    savings_summary = recommendations_data.groupby(['Type', 'Impact'])['Monthly savings'].sum().unstack(fill_value=0)\n",
    "    print(\"\\n\" + \"=\"*60)\n",
    "    print(\"💰 Cost Savings Opportunities Summary\")\n",
    "    print(\"=\"*60)\n",
    "    print(savings_summary.to_string(float_format=\"%.2f\"))\n",
    "    total_savings = recommendations_data['Monthly savings'].sum()\n",
    "    print(\"\\n\" + \"=\"*60)\n",
    "    print(f\"Total Potential Monthly Savings: ${total_savings:,.2f}\")\n",
    "    print(\"=\"*60)\n",
    "else:\n",
    "    print(\"⚠️ No recommendations data found.\")"
   ]
  },
  {
   "cell_type": "markdown",
   "metadata": {},
   "source": [
    "## 💡 Step 5: Key Insights & Recommendations\n",
    "\n",
    "Based on the analysis, here are the key insights and actionable recommendations for your cloud environment."
   ]
  },
  {
   "cell_type": "markdown",
   "metadata": {},
   "source": [
    "### CUD Analysis Insights\n",
    "- **Optimal Savings**: The analysis shows a potential for substantial monthly savings by adopting an optimal mix of 1-year and 3-year CUDs, as well as a combination of resource-based and flexible CUDs.\n",
    "- **Machine-Type-Specific Strategy**: A granular, machine-type-specific CUD strategy is crucial for maximizing savings. The analysis identifies the best CUD strategy for each machine type based on its usage profile and available discounts.\n",
    "- **Risk Assessment**: The analysis includes a risk assessment for CUD commitments, helping to balance the trade-off between savings and flexibility.\n",
    "\n",
    "### Cost-Saving Recommendations Insights\n",
    "- **Total Potential Monthly Savings**: **$49,860.53**\n",
    "- **Savings by Recommendation Type**:\n",
    "  - **Snapshot**: $16,220.00\n",
    "  - **Rightsizing**: $11,127.89\n",
    "  - **Idle VM**: $9,642.27\n",
    "  - **Unattached Disk**: $12,870.41\n",
    "\n",
    "### Actionable Next Steps\n",
    "1.  **Implement High-Impact Recommendations**: Start by addressing the high-impact, low-effort recommendations, such as deleting unattached disks and old snapshots.\n",
    "2.  **Adopt a CUD Strategy**: Begin with a conservative CUD strategy, focusing on the machine types with the most stable usage and highest potential savings.\n",
    "3.  **Monitor and Iterate**: Continuously monitor your cloud usage and CUD utilization, and adjust your strategy as needed."
   ]
  }
 ],
 "metadata": {
  "kernelspec": {
   "display_name": "Python 3",
   "language": "python",
   "name": "python3"
  },
  "language_info": {
   "codemirror_mode": {
    "name": "ipython",
    "version": 3
   },
   "file_extension": ".py",
   "mimetype": "text/x-python",
   "name": "python",
   "nbconvert_exporter": "python",
   "pygments_lexer": "ipython3",
   "version": "3.10.0"
  }
 },
 "nbformat": 4,
 "nbformat_minor": 4
}
