{
 "cells": [
  {
   "cell_type": "markdown",
   "metadata": {},
   "source": [
    "# 🤖 Automated CUD Analysis\n",
    "\n",
    "This notebook is designed for programmatic execution (e.g., via Papermill and Vertex AI Pipelines). It runs the full CUD analysis and generates a report."
   ]
  },
  {
   "cell_type": "code",
   "execution_count": null,
   "metadata": {
    "tags": [
     "parameters"
    ]
   },
   "outputs": [],
   "source": [
    "CONFIG_PATH = 'config.yaml'",
    "OUTPUT_REPORT_NAME = '' # Optional: If empty, a name will be generated."
   ]
  },
  {
   "cell_type": "code",
   "execution_count": null,
   "metadata": {},
   "outputs": [],
   "source": [
    "import logging",
    "from finops_analysis_platform.config_manager import ConfigManager",
    "from finops_analysis_platform.data_loader import load_data_from_config",
    "from finops_analysis_platform.core import CUDAnalyzer",
    "from finops_analysis_platform.reporting import PDFReportGenerator",
    "",
    "logging.basicConfig(level=logging.INFO, format='%(asctime)s - %(levelname)s - %(message)s')"
   ]
  },
  {
   "cell_type": "code",
   "execution_count": null,
   "metadata": {},
   "outputs": [],
   "source": [
    "logging.info(f\"Loading configuration from: {CONFIG_PATH}\")",
    "config_manager = ConfigManager(config_path=CONFIG_PATH)",
    "data = load_data_from_config(config_manager)",
    "billing_data = data.get('billing')",
    "recommendations_data = data.get('recommendations')",
    "logging.info(\"Data loaded successfully.\")"
   ]
  },
  {
   "cell_type": "code",
   "execution_count": null,
   "metadata": {},
   "outputs": [],
   "source": [
    "if billing_data is not None and not billing_data.empty:",
    "    logging.info(\"Starting CUD analysis...\")",
    "    analyzer = CUDAnalyzer(config_manager=config_manager, billing_data=billing_data)",
    "    analysis = analyzer.generate_comprehensive_analysis()",
    "    logging.info(\"CUD Analysis complete.\")",
    "",
    "    logging.info(\"Generating PDF report...\")",
    "    pdf_generator = PDFReportGenerator(config_manager=config_manager)",
    "    report_filename = pdf_generator.generate_report(analysis, filename=OUTPUT_REPORT_NAME)",
    "    logging.info(f\"PDF report generated: {report_filename}\")",
    "else:",
    "    logging.warning(\"Billing data is empty. Skipping analysis and report generation.\")"
   ]
  }
 ],
 "metadata": {
  "kernelspec": {
   "display_name": "Python 3",
   "language": "python",
   "name": "python3"
  },
  "language_info": {
   "codemirror_mode": {
    "name": "ipython",
    "version": 3
   },
   "file_extension": ".py",
   "mimetype": "text/x-python",
   "name": "python",
   "nbconvert_exporter": "python",
   "pygments_lexer": "ipython3",
   "version": "3.10.0"
  }
 },
 "nbformat": 4,
 "nbformat_minor": 4
}
