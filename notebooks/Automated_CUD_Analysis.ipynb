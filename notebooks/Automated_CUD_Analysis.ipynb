{
 "cells": [
  {
   "cell_type": "markdown",
   "metadata": {},
   "source": [
    "# 🤖 Automated CUD Analysis\\n",
    "\\n",
    "This notebook is designed for programmatic execution (e.g., via Papermill and Vertex AI Pipelines). It runs the full CUD analysis and generates a report."
   ]
  },
  {
   "cell_type": "code",
   "execution_count": null,
   "metadata": {
    "tags": [
     "parameters"
    ]
   },
   "outputs": [],
   "source": [
    "CONFIG_PATH = 'config.yaml'\\n",
    "OUTPUT_REPORT_NAME = '' # Optional: If empty, a name will be generated."
   ]
  },
  {
   "cell_type": "code",
   "execution_count": null,
   "metadata": {},
   "outputs": [],
   "source": [
    "import logging\\n",
    "from finops_analysis_platform.config_manager import ConfigManager\\n",
    "from finops_analysis_platform.data_loader import load_data_from_config\\n",
    "from finops_analysis_platform.core import CUDAnalyzer\\n",
    "from finops_analysis_platform.reporting import PDFReportGenerator\\n",
    "\\n",
    "logging.basicConfig(level=logging.INFO, format='%(asctime)s - %(levelname)s - %(message)s')"
   ]
  },
  {
   "cell_type": "code",
   "execution_count": null,
   "metadata": {},
   "outputs": [],
   "source": [
    "logging.info(f\"Loading configuration from: {CONFIG_PATH}\")\\n",
    "config_manager = ConfigManager(config_path=CONFIG_PATH)\\n",
    "data = load_data_from_config(config_manager)\\n",
    "billing_data = data.get('billing')\\n",
    "recommendations_data = data.get('recommendations')\\n",
    "logging.info(\"Data loaded successfully.\")"
   ]
  },
  {
   "cell_type": "code",
   "execution_count": null,
   "metadata": {},
   "outputs": [],
   "source": [
    "if billing_data is not None and not billing_data.empty:\\n",
    "    logging.info(\"Starting CUD analysis...\")\\n",
    "    analyzer = CUDAnalyzer(config_manager=config_manager, billing_data=billing_data)\\n",
    "    analysis = analyzer.generate_comprehensive_analysis()\\n",
    "    logging.info(\"CUD Analysis complete.\")\\n",
    "\\n",
    "    logging.info(\"Generating PDF report...\")\\n",
    "    pdf_generator = PDFReportGenerator(config_manager=config_manager)\\n",
    "    report_filename = pdf_generator.generate_report(analysis, filename=OUTPUT_REPORT_NAME)\\n",
    "    logging.info(f\"PDF report generated: {report_filename}\")\\n",
    "else:\\n",
    "    logging.warning(\"Billing data is empty. Skipping analysis and report generation.\")"
   ]
  }
 ],
 "metadata": {
  "kernelspec": {
   "display_name": "Python 3",
   "language": "python",
   "name": "python3"
  },
  "language_info": {
   "codemirror_mode": {
    "name": "ipython",
    "version": 3
   },
   "file_extension": ".py",
   "mimetype": "text/x-python",
   "name": "python",
   "nbconvert_exporter": "python",
   "pygments_lexer": "ipython3",
   "version": "3.10.0"
  }
 },
 "nbformat": 4,
 "nbformat_minor": 4
}
