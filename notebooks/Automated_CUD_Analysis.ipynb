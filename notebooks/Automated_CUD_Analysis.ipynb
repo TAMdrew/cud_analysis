{
 "cells": [
  {
   "cell_type": "markdown",
   "metadata": {},
   "source": [
    "# 🤖 Automated CUD Analysis\n",
    "\n",
    "This notebook is designed for programmatic execution (e.g., via Papermill and Vertex AI Pipelines). It runs the full CUD analysis and generates a report."
   ]
  },
  {
   "cell_type": "markdown",
   "metadata": {},
   "source": [
    "### 1. Install Dependencies\n",
    "\n",
    "This cell ensures that all required libraries for the analysis are installed in the notebook's environment."
   ]
  },
  {
   "cell_type": "code",
   "execution_count": null,
   "metadata": {},
   "outputs": [],
   "source": [
    "!pip install -q -r ../requirements.txt"
   ]
  },
  {
   "cell_type": "code",
   "execution_count": null,
   "metadata": {
    "tags": [
     "parameters"
    ]
   },
   "outputs": [],
   "source": [
    "CONFIG_PATH = 'config.yaml'",
    "OUTPUT_REPORT_NAME = '' # Optional: If empty, a name will be generated."
   ]
  },
  {
   "cell_type": "code",
   "execution_count": null,
   "metadata": {},
   "outputs": [],
   "source": [
    "import logging",
    "import sys",
    "from pathlib import Path",
    "",
    "# Add the src directory to the path to allow importing our modules",
    "sys.path.append(str(Path.cwd().parent / 'src'))",
    "",
    "from finops_analysis_platform.config_manager import ConfigManager",
    "from finops_analysis_platform.data_loader import load_data_from_config",
    "from finops_analysis_platform.core import CUDAnalyzer",
    "from finops_analysis_platform.reporting import PDFReportGenerator",
    "",
    "logging.basicConfig(level=logging.INFO, format='%(asctime)s - %(levelname)s - %(message)s')"
   ]
  },
  {
   "cell_type": "code",
   "execution_count": null,
   "metadata": {},
   "outputs": [],
   "source": [
    "logging.info(f\"Loading configuration from: {CONFIG_PATH}\")",
    "config_manager = ConfigManager(config_path=CONFIG_PATH)",
    "data = load_data_from_config(config_manager)",
    "billing_data = data.get('billing')",
    "recommendations_data = data.get('recommendations')",
    "logging.info(\"Data loaded successfully.\")"
   ]
  },
  {
   "cell_type": "code",
   "execution_count": null,
   "metadata": {},
   "outputs": [],
   "source": [
    "if billing_data is not None and not billing_data.empty:",
    "    logging.info(\"Starting CUD analysis...\")",
    "    analyzer = CUDAnalyzer(config_manager=config_manager, billing_data=billing_data)",
    "    analysis = analyzer.generate_comprehensive_analysis()",
    "    logging.info(\"CUD Analysis complete.\")",
    "",
    "    logging.info(\"Generating PDF report...\")",
    "    pdf_generator = PDFReportGenerator(config_manager=config_manager)",
    "    report_filename = pdf_generator.generate_report(analysis, filename=OUTPUT_REPORT_NAME)",
    "    logging.info(f\"PDF report generated: {report_filename}\")",
    "else:",
    "    logging.warning(\"Billing data is empty. Skipping analysis and report generation.\")"
   ]
  },
  {
   "cell_type": "markdown",
   "metadata": {},
   "source": [
    "# 💸 CUD Price Fetcher (New & Old Models)\n",
    "\n",
    "The following section demonstrates how to use the `GcpSkuFetcher` to get the latest pricing for both old and new CUD models directly from the Google Cloud Billing API."
   ]
  },
  {
   "cell_type": "code",
   "execution_count": null,
   "metadata": {},
   "outputs": [],
   "source": [
    "import os\n",
    "import pandas as pd\n",
    "from getpass import getpass\n",
    "from finops_analysis_platform.gcp_pricing import GcpSkuFetcher\n",
    "",
    "# --- Secure API Key Handling ---",
    "api_key = os.getenv(\"CLOUD_BILLING_API_KEY\")",
    "if not api_key:",
    "    try:",
    "        api_key = getpass('Enter your Cloud Billing API Key: ')",
    "    except NameError: # Fallback for non-interactive environments\n",
    "        api_key = None",
    "",
    "if not api_key:",
    "    print(\"ERROR: CLOUD_BILLING_API_KEY not found as an environment variable or provided via prompt.\")",
    "else:",
    "    # Initialize the fetcher with your API key",
    "    sku_fetcher = GcpSkuFetcher(api_key=api_key)",
    "    ",
    "    # Fetch and analyze CUD prices",
    "    cud_data = sku_fetcher.analyze_cud_prices()",
    "    ",
    "    if cud_data:",
    "        # For better analysis, load the data into a pandas DataFrame",
    "        df_cud_prices = pd.json_normalize(cud_data, record_path=['pricing'], meta=['description', 'model_type', 'sku_id'])",
    "        print(\"\n--- CUD Pricing Analysis ---")",
    "        display(df_cud_prices[['model_type', 'description', 'sku_id', 'price', 'currency', 'usage_unit']])"
   ]
  }
 ],
 "metadata": {
  "kernelspec": {
   "display_name": "Python 3",
   "language": "python",
   "name": "python3"
  },
  "language_info": {
   "codemirror_mode": {
    "name": "ipython",
    "version": 3
   },
   "file_extension": ".py",
   "mimetype": "text/x-python",
   "name": "python",
   "nbconvert_exporter": "python",
   "pygments_lexer": "ipython3",
   "version": "3.12.2"
  }
 },
 "nbformat": 4,
 "nbformat_minor": 4
}
