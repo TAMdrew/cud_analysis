{
 "cells": [
  {
   "cell_type": "markdown",
   "metadata": {},
   "source": [
    "# 🤖 AI-Powered FinOps Analysis with Gemini 2.5 Pro\n",
    "\\n",
    "This notebook demonstrates how to use the **Gemini 2.5 Pro** model to perform a deep, interactive analysis of your cloud cost and usage data. It showcases advanced features like **Code Execution** and **URL Context**."
   ]
  },
  {
   "cell_type": "markdown",
   "metadata": {},
   "source": [
    "## ⚠️ Important: Setup and Authentication\n",
    "\\n",
    "Before you begin, ensure you have completed the following steps:\n",
    "\\n",
    "1.  **Run the Setup Script**: From your terminal, in the project's root directory, run `bash scripts/setup_gcp_notebook.sh`.\n",
    "2.  **Authenticate to Google Cloud**: Run `gcloud auth application-default login` in your terminal and follow the prompts.\n",
    "3.  **Set Project ID**: Make sure your Google Cloud Project ID is set correctly in the `config.yaml` file.\n",
    "4.  **Enable Vertex AI API**: Ensure the Vertex AI API is enabled in your Google Cloud project."
   ]
  },
  {
   "cell_type": "markdown",
   "metadata": {},
   "source": [
    "## 📚 Step 1: Imports and Initialization"
   ]
  },
  {
   "cell_type": "code",
   "execution_count": null,
   "metadata": {},
   "outputs": [],
   "source": [
    "import logging\n",
    "import pandas as pd\n",
    "from IPython.display import Markdown, display\n",
    "from finops_analysis_platform.config_manager import ConfigManager\n",
    "from finops_analysis_platform.data_loader import GCSDataLoader\n",
    "from finops_analysis_platform.gemini_service import initialize_gemini, generate_content\n",
    "from google.genai.types import Tool, ToolCodeExecution, UrlContext\n",
    "\n",
    "logging.basicConfig(level=logging.INFO, format='%(asctime)s - %(levelname)s - %(message)s')\n",
    "\n",
    "config_manager = ConfigManager(config_path='config.yaml')\n",
    "project_id = config_manager.get('gcp.project_id')\n",
    "location = config_manager.get('gcp.location', 'us-central1')\n",
    "\n",
    "client = initialize_gemini(project_id=project_id, location=location)\n",
    "model_id = 'gemini-2.5-pro'\n",
    "\n",
    "print(f\"✅ Gemini client initialized for project '{project_id}' using model '{model_id}'.\")"
   ]
  },
  {
   "cell_type": "markdown",
   "metadata": {},
   "source": [
    "## 📂 Step 2: Load Your Data\n",
    "\\n",
    "We'll load the billing and recommendations data from your GCS bucket. If you're not authenticated, this will fall back to sample data."
   ]
  },
  {
   "cell_type": "code",
   "execution_count": null,
   "metadata": {},
   "outputs": [],
   "source": [
    "loader = GCSDataLoader(bucket_name=config_manager.get('gcs.bucket_name'))\n",
    "data = loader.load_all_data()\n",
    "billing_df = data.get('billing')\n",
    "recommendations_df = data.get('recommendations')\n",
    "\n",
    "print(\"✅ Data loaded successfully.\")"
   ]
  },
  {
   "cell_type": "markdown",
   "metadata": {},
   "source": [
    "## 💻 Step 3: Enhanced Code Execution\n",
    "\\n",
    "Gemini can generate and execute Python code to answer questions about your data. This example first identifies the top spending services and then generates a visualization."
   ]
  },
  {
   "cell_type": "code",
   "execution_count": null,
   "metadata": {},
   "outputs": [],
   "source": [
    "code_execution_tool = Tool(code_execution=ToolCodeExecution())\n",
    "\n",
    "prompt = \"\"\"\n",
    "Analyze the billing data provided in the pandas DataFrame `billing_df`.\n",
    "1. Identify the top 5 most expensive services.\n",
    "2. Calculate the total cost for each of these top 5 services.\n",
    "3. Generate a bar chart to visualize the costs of these top 5 services and save it as `top_services_cost.png`.\n",
    "\"\"\"\n",
    "\n",
    "response = generate_content(client, model_id, prompt, tools=[code_execution_tool])\n",
    "\n",
    "for part in response.candidates[0].content.parts:\n",
    "    if part.executable_code:\n",
    "        display(Markdown(f\"**Generated Code:**\\n```python\\n{part.executable_code.code}\\n```\"))\n",
    "    if part.code_execution_result:\n",
    "        display(Markdown(f\"**Execution Result:**\\n```\\n{part.code_execution_result.output}\\n```\"))"
   ]
  },
  {
   "cell_type": "markdown",
   "metadata": {},
   "source": [
    "## 🔗 Step 4: Analysis with URL Context\n",
    "\\n",
    "Gemini can use the content of URLs to provide more informed responses. Here, we'll ask it a question about Google Cloud's pricing, using a public documentation page as context."
   ]
  },
  {
   "cell_type": "code",
   "execution_count": null,
   "metadata": {},
   "outputs": [],
   "source": [
    "url_context_tool = Tool(url_context=UrlContext())\n",
    "\n",
    "prompt = \"\"\"\n",
    "Based on the content of this URL: https://cloud.google.com/compute/all-pricing, what are the key differences in pricing between N2, E2, and C2 machine types? Summarize the main characteristics of each family.\n",
    "\"\"\"\n",
    "\n",
    "response = generate_content(client, model_id, prompt, tools=[url_context_tool])\n",
    "\n",
    "if response.text:\n",
    "    display(Markdown(response.text))\n",
    "\n",
    "if response.candidates[0].url_context_metadata:\n",
    "    print(\"\\n--- URL Context Metadata ---\")\n",
    "    print(response.candidates[0].url_context_metadata)"
   ]
  },
  {
   "cell_type": "markdown",
   "metadata": {},
   "source": [
    "## 💡 Step 5: Automated Insight Generation\n",
    "\\n",
    "Finally, we can use Gemini to synthesize our findings into a high-level summary for an executive audience."
   ]
  },
  {
   "cell_type": "code",
   "execution_count": null,
   "metadata": {},
   "outputs": [],
   "source": [
    "insights_prompt = \"\"\"\n",
    "Based on the analysis performed, we have identified the top spending services and have access to billing and recommendation data.\n",
    "Please generate a short, actionable summary for a CFO, highlighting the key findings and recommending the next steps for cost optimization.\n",
    "Assume the analysis revealed that 'Compute Engine' is the highest cost driver and that there are significant savings opportunities in 'Rightsizing' and 'Deleting Unattached Disks'.\n",
    "\"\"\"\n",
    "\n",
    "summary_response = generate_content(client, model_id, insights_prompt, tools=[]) # No tools needed for this summarization\n",
    "\n",
    "if summary_response.text:\n",
    "    display(Markdown(summary_response.text))"
   ]
  }
 ],
 "metadata": {
  "kernelspec": {
   "display_name": "Python 3",
   "language": "python",
   "name": "python3"
  },
  "language_info": {
   "codemirror_mode": {
    "name": "ipython",
    "version": 3
   },
   "file_extension": ".py",
   "mimetype": "text/x-python",
   "name": "python",
   "nbconvert_exporter": "python",
   "pygments_lexer": "ipython3",
   "version": "3.10.0"
  }
 },
 "nbformat": 4,
 "nbformat_minor": 4
}
