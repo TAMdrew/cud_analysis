{
 "cells": [
  {
   "cell_type": "markdown",
   "metadata": {},
   "source": [
    "# ☁️ FinOps CUD Analysis: A Comprehensive Walkthrough\n",
    "\n",
    "**Author:** andrewanolasco@ (Maintained by Jules)\n",
    "**Version:** V2.1.0\n",
    "**Date:** August 2025\n",
    "\n",
    "---\n",
    "\n",
    "### Overview\n",
    "Welcome to the FinOps CUD Analysis Platform! This notebook is your starting point for a deep dive into your Google Cloud Committed Use Discounts (CUDs). It provides a step-by-step guide to analyzing your billing data, identifying cost-saving opportunities, and generating executive-level reports.\n",
    "\n",
    "### Instructions\n",
    "Run the cells in this notebook sequentially to perform a complete analysis. Make sure you have authenticated to Google Cloud as described below."
   ]
  },
  {
   "cell_type": "markdown",
   "metadata": {},
   "source": [
    "## ⚠️ Important: Authentication and Data Source\n",
    "\n",
    "To analyze your **real data**, this notebook must be run in an environment that is authenticated to your Google Cloud project. \n",
    "\n",
    "If you are not authenticated, the tool will automatically fall back to using **sample data**. The analysis will still run, but the results will not be specific to your cloud environment.\n",
    "\n",
    "**To authenticate, please run `gcloud auth application-default login` in your terminal before running this notebook.**"
   ]
  },
  {
   "cell_type": "markdown",
   "metadata": {},
   "source": [
    "## 📚 Step 1: Setup and Imports\n",
    "\n",
    "First, we'll import the necessary modules from the `finops-analysis-platform` library."
   ]
  },
  {
   "cell_type": "code",
   "execution_count": null,
   "metadata": {},
   "outputs": [],
   "source": [
    "import logging",
    "import pandas as pd",
    "from finops_analysis_platform.config_manager import ConfigManager",
    "from finops_analysis_platform.data_loader import load_data_from_config",
    "from finops_analysis_platform.core import CUDAnalyzer",
    "from finops_analysis_platform.reporting import create_dashboard, PDFReportGenerator",
    "",
    "# Set up basic logging",
    "logging.basicConfig(level=logging.INFO, format='%(asctime)s - %(levelname)s - %(message)s')"
   ]
  },
  {
   "cell_type": "markdown",
   "metadata": {},
   "source": [
    "## 📂 Step 2: Configuration and Data Loading\n",
    "\n",
    "First, specify the path to your configuration file using the form field below. Then, we'll load your data from the GCS bucket defined in that file."
   ]
  },
  {
   "cell_type": "code",
   "execution_count": null,
   "metadata": {},
   "outputs": [],
   "source": [
    "# @markdown Specify the path to your configuration file.",
    "CONFIG_PATH = 'config.yaml' # @param {type:\"string\"}",
    "",
    "config_manager = ConfigManager(config_path=CONFIG_PATH)",
    "data = load_data_from_config(config_manager)",
    "billing_data = data.get('billing')",
    "recommendations_data = data.get('recommendations')",
    "",
    "print(\"✅ Data loaded successfully.\")"
   ]
  },
  {
   "cell_type": "markdown",
   "metadata": {},
   "source": [
    "## 💰 Step 3: CUD Analysis\n",
    "\n",
    "Here we run the CUD analysis on your billing data and generate a PDF report and an interactive dashboard."
   ]
  },
  {
   "cell_type": "code",
   "execution_count": null,
   "metadata": {},
   "outputs": [],
   "source": [
    "analyzer = CUDAnalyzer(config_manager=config_manager, billing_data=billing_data)",
    "analysis = analyzer.generate_comprehensive_analysis()",
    "print(\"✅ CUD Analysis complete!\")",
    "",
    "# Generate PDF Report",
    "pdf_generator = PDFReportGenerator(config_manager=config_manager)",
    "report_filename = pdf_generator.generate_report(analysis)",
    "print(f\"📄 PDF report generated: {report_filename}\")",
    "",
    "# Create Interactive Dashboard",
    "dashboard = create_dashboard(analysis, config_manager)",
    "# In a real notebook environment, this would display the Plotly chart.",
    "print(\"📊 Interactive dashboard created.\")",
    "dashboard.show()"
   ]
  },
  {
   "cell_type": "markdown",
   "metadata": {},
   "source": [
    "## 🔧 Step 4: Cost-Saving Recommendations Analysis\n",
    "\n",
    "Next, we analyze the data from the cost recommender to identify immediate savings opportunities."
   ]
  },
  {
   "cell_type": "code",
   "execution_count": null,
   "metadata": {},
   "outputs": [],
   "source": [
    "if recommendations_data is not None and not recommendations_data.empty:",
    "    savings_summary = recommendations_data.groupby(['Type', 'Impact'])['Monthly savings'].sum().unstack(fill_value=0)",
    "    print(\"\\n\" + \"=\"*60)",
    "    print(\"💰 Cost Savings Opportunities Summary\")",
    "    print(\"=\"*60)",
    "    print(savings_summary.to_string(float_format=\"%.2f\"))",
    "    total_savings = recommendations_data['Monthly savings'].sum()",
    "    print(\"\\n\" + \"=\"*60)",
    "    print(f\"Total Potential Monthly Savings: ${total_savings:,.2f}\")",
    "    print(\"=\"*60)",
    "else:",
    "    print(\"⚠️ No recommendations data found or data is empty.\")"
   ]
  },
  {
   "cell_type": "markdown",
   "metadata": {},
   "source": [
    "## 💡 Step 5: Key Insights & Recommendations\n",
    "\n",
    "This section will be dynamically generated in a future step. For now, the analysis is complete."
   ]
  }
 ],
 "metadata": {
  "kernelspec": {
   "display_name": "Python 3",
   "language": "python",
   "name": "python3"
  },
  "language_info": {
   "codemirror_mode": {
    "name": "ipython",
    "version": 3
   },
   "file_extension": ".py",
   "mimetype": "text/x-python",
   "name": "python",
   "nbconvert_exporter": "python",
   "pygments_lexer": "ipython3",
   "version": "3.10.0"
  }
 },
 "nbformat": 4,
 "nbformat_minor": 4
}
