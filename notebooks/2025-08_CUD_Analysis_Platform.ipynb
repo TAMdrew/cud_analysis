{
 "cells": [
  {
   "cell_type": "markdown",
   "metadata": {},
   "source": [
    "# ☁️ Cloud FinOps CUD Analysis Platform\n",
    "## Complete Standalone Solution with GCS Integration\n",
    "\n",
    "**Author:** andrewanolasco@\n",
    "**Version:** V1.0.0\n",
    "**Date:** August 2025\n",
    "\n",
    "---\n",
    "\n",
    "### Overview\n",
    "This notebook demonstrates how to use the `finops-analysis-platform` library to analyze Google Cloud Committed Use Discounts (CUDs). The library provides a modular and extensible framework for performing sophisticated FinOps analysis."
   ]
  },
  {
   "cell_type": "markdown",
   "metadata": {},
   "source": [
    "## ⚠️ Important: Setup Instructions\n",
    "\n",
    "1.  **Run Setup Script**: Before running this notebook, open a terminal, navigate to the project's root directory (`cud_analysis`), and run the setup script: `bash scripts/setup_gcp_notebook.sh`.\n",
    "2.  **Set Working Directory**: The first code cell in this notebook changes the directory to the project root. **You must run it before any other cell.**\n",
    "3.  **Restart Kernel**: After running the `%cd ..` command, **you must restart the kernel** for the changes to take effect. This will ensure that the notebook can find the project files and configuration."
   ]
  },
  {
   "cell_type": "code",
   "execution_count": null,
   "metadata": {},
   "outputs": [],
   "source": [
    "# This command sets the notebook's working directory to the project root.\n",
    "# Please run this cell first, and then RESTART the kernel.\n",
    "%cd .."
   ]
  },
  {
   "cell_type": "markdown",
   "metadata": {},
   "source": [
    "## 📚 Step 1: Import Necessary Modules"
   ]
  },
  {
   "cell_type": "code",
   "execution_count": null,
   "metadata": {},
   "outputs": [],
   "source": [
    "import logging\n",
    "from finops_analysis_platform.config_manager import ConfigManager\n",
    "from finops_analysis_platform.data_loader import GCSDataLoader\n",
    "from finops_analysis_platform.core import CUDAnalyzer\n",
    "from finops_analysis_platform.reporting import create_dashboard, PDFReportGenerator\n",
    "\n",
    "# Set up basic logging\n",
    "logging.basicConfig(level=logging.INFO, format='%(asctime)s - %(levelname)s - %(message)s')"
   ]
  },
  {
   "cell_type": "markdown",
   "metadata": {},
   "source": [
    "## ⚙️ Step 2: Configuration\n",
    "\n",
    "The `ConfigManager` loads configuration from `config.yaml` and can be overridden by environment variables. Make sure your `config.yaml` is pointing to the correct GCS bucket.\n",
    "\n",
    "### Required GCS Structure\n",
    "For the tool to work correctly, your data should be organized in your GCS bucket as follows:\n",
    "```\n",
    "gs://your-bucket-name/\n",
    "├── data/billing/           # Billing export CSVs\n",
    "├── data/recommendations/   # Cost recommender exports (optional)\n",
    "└── data/manual_analysis/   # Manual analysis files (optional)\n",
    "```"
   ]
  },
  {
   "cell_type": "code",
   "execution_count": null,
   "metadata": {},
   "outputs": [],
   "source": [
    "config_manager = ConfigManager(config_path='config.yaml')\n",
    "print(\"✅ Configuration loaded.\")"
   ]
  },
  {
   "cell_type": "markdown",
   "metadata": {},
   "source": [
    "## 📂 Step 3: Load Data\n",
    "\n",
    "The `GCSDataLoader` fetches billing and other data from your configured GCS bucket. If it can't connect, it will generate sample data for demonstration purposes."
   ]
  },
  {
   "cell_type": "code",
   "execution_count": null,
   "metadata": {},
   "outputs": [],
   "source": [
    "gcs_config = config_manager.get('gcs', {})\n",
    "loader = GCSDataLoader(bucket_name=gcs_config.get('bucket_name'))\n",
    "data = loader.load_all_data()\n",
    "billing_data = data.get('billing')\n",
    "\n",
    "if 'sample_data' in data:\n",
    "    print(\"⚠️ Using sample data for demonstration.\")"
   ]
  },
  {
   "cell_type": "markdown",
   "metadata": {},
   "source": [
    "## 🔬 Step 4: Run the Analysis\n",
    "\n",
    "The `CUDAnalyzer` performs the core analysis based on the loaded configuration and data."
   ]
  },
  {
   "cell_type": "code",
   "execution_count": null,
   "metadata": {},
   "outputs": [],
   "source": [
    "analyzer = CUDAnalyzer(config_manager=config_manager, billing_data=billing_data)\n",
    "analysis = analyzer.generate_comprehensive_analysis()\n",
    "print(\"✅ Analysis complete!\")"
   ]
  },
  {
   "cell_type": "markdown",
   "metadata": {},
   "source": [
    "## 📊 Step 5: Generate Reports\n",
    "\n",
    "Now we can generate a PDF report and an interactive dashboard."
   ]
  },
  {
   "cell_type": "code",
   "execution_count": null,
   "metadata": {},
   "outputs": [],
   "source": [
    "# Generate PDF Report\n",
    "if config_manager.get('reporting', {}).get('generate_pdf', True):\n",
    "    pdf_generator = PDFReportGenerator(config_manager=config_manager)\n",
    "    report_filename = pdf_generator.generate_report(analysis)\n",
    "    print(f\"📄 PDF report generated: {report_filename}\")\n",
    "\n",
    "# Create Interactive Dashboard\n",
    "if config_manager.get('reporting', {}).get('create_dashboard', True):\n",
    "    dashboard = create_dashboard(analysis)\n",
    "    # In a real notebook environment, this would display the Plotly chart.\n",
    "    print(\"📊 Interactive dashboard created.\")"
   ]
  },
  {
   "cell_type": "markdown",
   "metadata": {},
   "source": [
    "## 🕵️ Step 7: Data Profiling (Optional)\\n",
    "\\n",
    "You can also generate a data profiling report to get a deeper understanding of your datasets."
   ]
  },
  {
   "cell_type": "code",
   "execution_count": null,
   "metadata": {},
   "outputs": [],
   "source": [
    "from finops_analysis_platform.profiler import create_profile_report\n",
    "\n",
    "# Profile the billing dataset\n",
    "if 'billing' in data:\n",
    "    create_profile_report(data['billing'], title='Billing Data Profile')"
   ]
  },
  {
   "cell_type": "markdown",
   "metadata": {},
   "source": [
    "## 🎉 Conclusion\n",
    "\n",
    "This notebook has demonstrated the streamlined workflow for running CUD analysis using the refactored library. The process is now more modular, configurable, and easier to maintain."
   ]
  }
 ],
 "metadata": {
  "kernelspec": {
   "display_name": "Python 3",
   "language": "python",
   "name": "python3"
  },
  "language_info": {
   "codemirror_mode": {
    "name": "ipython",
    "version": 3
   },
   "file_extension": ".py",
   "mimetype": "text/x-python",
   "name": "python",
   "nbconvert_exporter": "python",
   "pygments_lexer": "ipython3",
   "version": "3.10.0"
  }
 },
 "nbformat": 4,
 "nbformat_minor": 4
}
