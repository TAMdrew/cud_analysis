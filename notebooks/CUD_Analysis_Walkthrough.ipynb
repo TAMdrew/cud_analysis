{
 "cells": [
  {
   "cell_type": "markdown",
   "metadata": {},
   "source": [
    "# ☁️ FinOps CUD Analysis: A Comprehensive Walkthrough\\n",
    "\\n",
    "**Author:** andrewanolasco@ (Maintained by Jules)\\n",
    "**Version:** V2.0.0\\n",
    "**Date:** August 2025\\n",
    "\\n",
    "---\\n",
    "\\n",
    "### Overview\\n",
    "Welcome to the FinOps CUD Analysis Platform! This notebook is your starting point for a deep dive into your Google Cloud Committed Use Discounts (CUDs). It provides a step-by-step guide to analyzing your billing data, identifying cost-saving opportunities, and generating executive-level reports.\\n",
    "\\n",
    "### Instructions\\n",
    "Run the cells in this notebook sequentially to perform a complete analysis. Make sure you have authenticated to Google Cloud as described below."
   ]
  },
  {
   "cell_type": "markdown",
   "metadata": {},
   "source": [
    "## ⚠️ Important: Authentication and Data Source\\n",
    "\\n",
    "To analyze your **real data**, this notebook must be run in an environment that is authenticated to your Google Cloud project. \\n",
    "\\n",
    "If you are not authenticated, the tool will automatically fall back to using **sample data**. The analysis will still run, but the results will not be specific to your cloud environment.\\n",
    "\\n",
    "**To authenticate, please run `gcloud auth application-default login` in your terminal before running this notebook.**"
   ]
  },
  {
   "cell_type": "markdown",
   "metadata": {},
   "source": [
    "## 📚 Step 1: Setup and Imports\\n",
    "\\n",
    "First, we'll import the necessary modules from the `finops-analysis-platform` library."
   ]
  },
  {
   "cell_type": "code",
   "execution_count": null,
   "metadata": {},
   "outputs": [],
   "source": [
    "import logging\\n",
    "import pandas as pd\\n",
    "from finops_analysis_platform.config_manager import ConfigManager\\n",
    "from finops_analysis_platform.data_loader import GCSDataLoader\\n",
    "from finops_analysis_platform.core import CUDAnalyzer\\n",
    "from finops_analysis_platform.reporting import create_dashboard, PDFReportGenerator\\n",
    "\\n",
    "# Set up basic logging\\n",
    "logging.basicConfig(level=logging.INFO, format='%(asctime)s - %(levelname)s - %(message)s')"
   ]
  },
  {
   "cell_type": "markdown",
   "metadata": {},
   "source": [
    "## 📂 Step 2: Load Your Data\\n",
    "\\n",
    "We'll now load your data from the GCS bucket specified in your `config.yaml`."
   ]
  },
  {
   "cell_type": "code",
   "execution_count": null,
   "metadata": {},
   "outputs": [],
   "source": [
    "config_manager = ConfigManager(config_path='config.yaml')\\n",
    "gcs_config = config_manager.get('gcs', {})\\n",
    "loader = GCSDataLoader(bucket_name=gcs_config.get('bucket_name'))\\n",
    "data = loader.load_all_data()\\n",
    "billing_data = data.get('billing')\\n",
    "recommendations_data = data.get('recommendations')\\n",
    "\\n",
    "print(\"✅ Data loaded successfully.\")"
   ]
  },
  {
   "cell_type": "markdown",
   "metadata": {},
   "source": [
    "## 💰 Step 3: CUD Analysis\\n",
    "\\n",
    "Here we run the CUD analysis on your billing data and generate a PDF report and an interactive dashboard."
   ]
  },
  {
   "cell_type": "code",
   "execution_count": null,
   "metadata": {},
   "outputs": [],
   "source": [
    "analyzer = CUDAnalyzer(config_manager=config_manager, billing_data=billing_data)\\n",
    "analysis = analyzer.generate_comprehensive_analysis()\\n",
    "print(\"✅ CUD Analysis complete!\")\\n",
    "\\n",
    "# Generate PDF Report\\n",
    "pdf_generator = PDFReportGenerator(config_manager=config_manager)\\n",
    "report_filename = pdf_generator.generate_report(analysis)\\n",
    "print(f\"📄 PDF report generated: {report_filename}\")\\n",
    "\\n",
    "# Create Interactive Dashboard\\n",
    "dashboard = create_dashboard(analysis)\\n",
    "# In a real notebook environment, this would display the Plotly chart.\\n",
    "print(\"📊 Interactive dashboard created.\")"
   ]
  },
  {
   "cell_type": "markdown",
   "metadata": {},
   "source": [
    "## 🔧 Step 4: Cost-Saving Recommendations Analysis\\n",
    "\\n",
    "Next, we analyze the data from the cost recommender to identify immediate savings opportunities."
   ]
  },
  {
   "cell_type": "code",
   "execution_count": null,
   "metadata": {},
   "outputs": [],
   "source": [
    "if recommendations_data is not None and not recommendations_data.empty:\\n",
    "    savings_summary = recommendations_data.groupby(['Type', 'Impact'])['Monthly savings'].sum().unstack(fill_value=0)\\n",
    "    print(\"\\n\" + \"=\"*60)\\n",
    "    print(\"💰 Cost Savings Opportunities Summary\")\\n",
    "    print(\"=\"*60)\\n",
    "    print(savings_summary.to_string(float_format=\"%.2f\"))\\n",
    "    total_savings = recommendations_data['Monthly savings'].sum()\\n",
    "    print(\"\\n\" + \"=\"*60)\\n",
    "    print(f\"Total Potential Monthly Savings: ${total_savings:,.2f}\")\\n",
    "    print(\"=\"*60)\\n",
    "else:\\n",
    "    print(\"⚠️ No recommendations data found or data is empty.\")"
   ]
  },
  {
   "cell_type": "markdown",
   "metadata": {},
   "source": [
    "## 💡 Step 5: Key Insights & Recommendations\\n",
    "\\n",
    "This section will be dynamically generated in a future step. For now, the analysis is complete."
   ]
  }
 ],
 "metadata": {
  "kernelspec": {
   "display_name": "Python 3",
   "language": "python",
   "name": "python3"
  },
  "language_info": {
   "codemirror_mode": {
    "name": "ipython",
    "version": 3
   },
   "file_extension": ".py",
   "mimetype": "text/x-python",
   "name": "python",
   "nbconvert_exporter": "python",
   "pygments_lexer": "ipython3",
   "version": "3.10.0"
  }
 },
 "nbformat": 4,
 "nbformat_minor": 4
}
